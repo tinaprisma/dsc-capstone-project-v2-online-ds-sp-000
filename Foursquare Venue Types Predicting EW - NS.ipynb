{
 "cells": [
  {
   "cell_type": "markdown",
   "metadata": {
    "collapsed": true
   },
   "source": [
    "# Foursquare Venue Types and Names As Proxies for Geography"
   ]
  },
  {
   "cell_type": "markdown",
   "metadata": {},
   "source": [
    "### Abstract"
   ]
  },
  {
   "cell_type": "markdown",
   "metadata": {},
   "source": [
    "Problem: \n",
    "\n",
    "The United States is often thought as having two main cultural divisions based on whether states are in the South or North. If we observe the country from a topographical perspective, however, it is apparent that west of the a 104 longitude, the terrain is much more mountainous. The Eastern part of the country is mostly flat, with an exception of the relatively hilly Appalachian terrain. Terrain influences the types of activities people engage in, and thus affects culture. In choosing where to live, it is important to know what kind of lifestyle one wants. In this particular exercise, we want to find out if venue types and names are a reflection of geography, and whether this influence is strongest East to West or North to South.\n",
    "\n",
    "Methodology:\n",
    "\n",
    "Apply the OSEMN Model for Data Science Projects.\n",
    "\n",
    "Using Foursquare, we extracted venue information for a set of venue types that are of personal interest. \n",
    "\n",
    "Eastern US is defined as all states and cities right of the 104 longitude, and the Western US to the left of the same line. Similarly, the Northern US is defined as all regions at and above the 37 latitude.\n",
    "\n",
    "By extracting these attributes for major cities accross the United States, we created a dataset with over 40 thousand samples. Then, we created categorical variables for each venue type (park, trail, museum, etc), and also for each word in the venue names. \n",
    "\n",
    "A simple logistic regression model was set up to determine whether the predictive power of using venue types and names was strongest N-S or E-W.\n",
    "\n",
    "Findings: \n",
    "\n",
    "With minimal feature engineering and data cleaning, the predictive power of venue types and names is stronger to distinguish the West from the Eastern US than it is to distinguish the South from the Northern US. "
   ]
  },
  {
   "cell_type": "markdown",
   "metadata": {},
   "source": [
    "### Technical Analysis"
   ]
  },
  {
   "cell_type": "markdown",
   "metadata": {},
   "source": [
    "#### Step 1: Obtain Data"
   ]
  },
  {
   "cell_type": "markdown",
   "metadata": {},
   "source": [
    "Import relevant libraries"
   ]
  },
  {
   "cell_type": "code",
   "execution_count": 58,
   "metadata": {},
   "outputs": [
    {
     "name": "stdout",
     "output_type": "stream",
     "text": [
      "Libraries imported.\n"
     ]
    }
   ],
   "source": [
    "import pandas as pd\n",
    "import numpy as np\n",
    "import requests\n",
    "\n",
    "import numpy as np # library to handle data in a vectorized manner\n",
    "import json # library to handle JSON files\n",
    "import matplotlib.pyplot as plt\n",
    "import matplotlib.cm as cm # Matplotlib and associated plotting modules\n",
    "import matplotlib.colors as colors\n",
    "\n",
    "#!pip install --upgrade pip\n",
    "#!pip install plotly==4.1.0\n",
    "#!pip install \"notebook>=5.3\" \"ipywidgets>=7.2\"\n",
    "import plotly\n",
    "#import plotly.plotly as py\n",
    "import plotly.figure_factory as ff\n",
    "import plotly.graph_objs as go\n",
    "from plotly import tools\n",
    "%matplotlib inline\n",
    "\n",
    "#!conda install -c conda-forge geopy --yes # uncomment this line if you haven't completed the Foursquare API lab\n",
    "from geopy import Nominatim # convert an address into latitude and longitude values\n",
    "from pandas.io.json import json_normalize # tranform JSON file into a pandas dataframe\n",
    "from pandas.io.html import read_html\n",
    "from sklearn.cluster import KMeans # import k-means from clustering stage\n",
    "\n",
    "#!conda install -c conda-forge folium=0.5.0 --yes # uncomment this line if you haven't completed the Foursquare API lab\n",
    "import folium # map rendering library\n",
    "pd.set_option('display.max_columns', None)\n",
    "pd.set_option('display.max_rows', None)\n",
    "\n",
    "print('Libraries imported.')"
   ]
  },
  {
   "cell_type": "markdown",
   "metadata": {},
   "source": [
    "Create a list with cities of interest accross the United States."
   ]
  },
  {
   "cell_type": "code",
   "execution_count": 2,
   "metadata": {},
   "outputs": [],
   "source": [
    "# Cities list\n",
    "cities = ['Houston, TX','Austin, TX','Dallas, TX','San Antonio, TX','Fort Worth, Texas','San Francisco, CA','San Jose, CA','Santa Rosa, CA','Palo Alto, CA','Los Angeles, CA','Santa Barbara, CA',\n",
    "          'San Diego, CA','Long Beach, CA','Palmdale, CA','Bakersfield, CA','Fresno, CA','Seattle, WA','Portland,OR','Miami, FL','Orlando, FL','Atlanta, GA','New Orleans, LA','Grand Junction, CO',\n",
    "          'Denver, CO','Colorado Springs, CO','New York, NY', 'Arlington, VA','Anchorage, AK','Sacramento, CA','Tampa, FL','Des Moines, IA','Reno, NV','Las Vegas, NV',\n",
    "          'Chicago, IL','Detroit, MI','Boston, MA','New Haven, CT', 'St. Louis, MO','Phoenix, AZ','Albuquerque, NM','Oklahoma City, OK']"
   ]
  },
  {
   "cell_type": "markdown",
   "metadata": {},
   "source": [
    "Identify Venue Categories to Extract From Foursquare."
   ]
  },
  {
   "cell_type": "code",
   "execution_count": 3,
   "metadata": {},
   "outputs": [],
   "source": [
    "#Outdoors and Recreation Venues: Trails, Bike Trail, Botanical Gardens, Forest, Mountain, Nature Preserve, National Park\n",
    "outdoors_venues_ID = ['4bf58dd8d48988d159941735','56aa371be4b08b9a8d57355e','52e81612bcbc57f1066b7a22','52e81612bcbc57f1066b7a23','4eb1d4d54b900d56c88a45fc','52e81612bcbc57f1066b7a13','52e81612bcbc57f1066b7a21']\n",
    "                      \n",
    "# Professional & Other Places:  Tech Startup, Convention Center, Observatory\n",
    "professional_venues_ID = ['4bf58dd8d48988d125941735','4bf58dd8d48988d1ff931735','5744ccdfe4b0c0459246b4d9']\n",
    "    \n",
    "#cultural venues:  Spiritual Center: Buddhist Temple, Hindu Temple, Synagoge, Winery\n",
    "cultural_venues_ID = ['52e81612bcbc57f1066b7a3e','52e81612bcbc57f1066b7a3f','4bf58dd8d48988d139941735','4bf58dd8d48988d14b941735']\n",
    "\n",
    "# Food and drink shop: Farmers Market, Health Food Store, Organic Grocery, Fruit and Vegetable Store, Juice Bar\n",
    "food_venues_ID = ['4bf58dd8d48988d1fa941735','50aa9e744b90af0d42d5de0e','52f2ab2ebcbc57f1066b8b45','52f2ab2ebcbc57f1066b8b1c','4bf58dd8d48988d112941735']\n",
    "\n",
    "# Beautification: Park, Flower Shop, Art Studio\n",
    "beauty_venues_ID = ['4bf58dd8d48988d163941735','4bf58dd8d48988d11b951735','58daa1558bbb0b01f18ec1d6']\n",
    "\n",
    "# store all ids in a list\n",
    "categoryIDs = [outdoors_venues_ID,professional_venues_ID,cultural_venues_ID,food_venues_ID,beauty_venues_ID]"
   ]
  },
  {
   "cell_type": "markdown",
   "metadata": {},
   "source": [
    "Create a Function to Connect and Extract Data from Foursquare"
   ]
  },
  {
   "cell_type": "code",
   "execution_count": 4,
   "metadata": {},
   "outputs": [],
   "source": [
    "# This function connects to Foursquare and extracts venues matching a CategoryID and \n",
    "# stores them in the dataframe designated.\n",
    "\n",
    "def getFoursquareCityData(cities, categoryIDs, limit, max_radius):\n",
    "\n",
    "    # Connect to Foursquare and Query each city to find the number of each venue.\n",
    "\n",
    "    client_ID = ''\n",
    "    client_secret = ''\n",
    "    version = '20180605' # Foursquare API version\n",
    "\n",
    "    #print('Your credentails:')\n",
    "    #print('CLIENT_ID: ' + client_ID)\n",
    "    #print('CLIENT_SECRET:' + client_secret)\n",
    "\n",
    "    venues_list = []\n",
    "    venues_df = pd.DataFrame(columns = ['City','CategoryID','Venue','Latitude','Longitude','Type'])\n",
    "    \n",
    "    for city in cities:\n",
    "        for list in categoryIDs:\n",
    "            for category in list:\n",
    "                url = 'https://api.foursquare.com/v2/venues/explore?&client_id={}&client_secret={}&v={}&near={}&radius={}&limit={}&categoryId={}'.format(\n",
    "                    client_ID,\n",
    "                    client_secret,\n",
    "                    version,\n",
    "                    city,\n",
    "                    max_radius,\n",
    "                    limit,\n",
    "                    category)\n",
    "\n",
    "                city_abr = city.upper()[:3]\n",
    "                try:\n",
    "                    venues = requests.get(url).json()['response']['groups'][0]['items']\n",
    "\n",
    "                    venues_list.append([(\n",
    "                    city,\n",
    "                    category,\n",
    "                    v['venue']['name'], \n",
    "                    v['venue']['location']['lat'], \n",
    "                    v['venue']['location']['lng'],\n",
    "                    v['venue']['categories'][0]['name']) for v in venues])\n",
    "                except IndexError:\n",
    "                    continue\n",
    "                except KeyError:\n",
    "                    continue\n",
    "\n",
    "            venues_df = pd.DataFrame([item for venue_list in venues_list for item in venue_list])\n",
    "        print(city_abr + \" records extracted.\")\n",
    "    print(\"The size of your venue dataframe is:\")\n",
    "    print(venues_df.shape)\n",
    "    return venues_df"
   ]
  },
  {
   "cell_type": "markdown",
   "metadata": {},
   "source": [
    "Execute function and populate the venues dataframe with the raw data."
   ]
  },
  {
   "cell_type": "code",
   "execution_count": 12,
   "metadata": {
    "scrolled": true
   },
   "outputs": [
    {
     "name": "stdout",
     "output_type": "stream",
     "text": [
      "HOU records extracted.\n",
      "AUS records extracted.\n",
      "DAL records extracted.\n",
      "SAN records extracted.\n",
      "FOR records extracted.\n",
      "SAN records extracted.\n",
      "SAN records extracted.\n",
      "SAN records extracted.\n",
      "PAL records extracted.\n",
      "LOS records extracted.\n",
      "SAN records extracted.\n",
      "SAN records extracted.\n",
      "LON records extracted.\n",
      "PAL records extracted.\n",
      "BAK records extracted.\n",
      "FRE records extracted.\n",
      "SEA records extracted.\n",
      "POR records extracted.\n",
      "MIA records extracted.\n",
      "ORL records extracted.\n",
      "ATL records extracted.\n",
      "NEW records extracted.\n",
      "GRA records extracted.\n",
      "DEN records extracted.\n",
      "COL records extracted.\n",
      "NEW records extracted.\n",
      "ARL records extracted.\n",
      "ANC records extracted.\n",
      "SAC records extracted.\n",
      "TAM records extracted.\n",
      "DES records extracted.\n",
      "REN records extracted.\n",
      "LAS records extracted.\n",
      "CHI records extracted.\n",
      "DET records extracted.\n",
      "BOS records extracted.\n",
      "NEW records extracted.\n",
      "ST. records extracted.\n",
      "PHO records extracted.\n",
      "ALB records extracted.\n",
      "OKL records extracted.\n",
      "The size of your venue dataframe is:\n",
      "(44006, 6)\n"
     ]
    }
   ],
   "source": [
    "# Find venues near each city center around a 50 km radius (around 30 miles). Limit each venue list to 100 distinct venues\n",
    "venues_df = getFoursquareCityData(cities, categoryIDs, 100, 100000)"
   ]
  },
  {
   "cell_type": "markdown",
   "metadata": {},
   "source": [
    "Preview venues dataframe"
   ]
  },
  {
   "cell_type": "code",
   "execution_count": 13,
   "metadata": {
    "scrolled": false
   },
   "outputs": [
    {
     "data": {
      "text/html": [
       "<div>\n",
       "<style scoped>\n",
       "    .dataframe tbody tr th:only-of-type {\n",
       "        vertical-align: middle;\n",
       "    }\n",
       "\n",
       "    .dataframe tbody tr th {\n",
       "        vertical-align: top;\n",
       "    }\n",
       "\n",
       "    .dataframe thead th {\n",
       "        text-align: right;\n",
       "    }\n",
       "</style>\n",
       "<table border=\"1\" class=\"dataframe\">\n",
       "  <thead>\n",
       "    <tr style=\"text-align: right;\">\n",
       "      <th></th>\n",
       "      <th>0</th>\n",
       "      <th>1</th>\n",
       "      <th>2</th>\n",
       "      <th>3</th>\n",
       "      <th>4</th>\n",
       "      <th>5</th>\n",
       "    </tr>\n",
       "  </thead>\n",
       "  <tbody>\n",
       "    <tr>\n",
       "      <td>0</td>\n",
       "      <td>Houston, TX</td>\n",
       "      <td>4bf58dd8d48988d159941735</td>\n",
       "      <td>Memorial Park 3 Mile Trail</td>\n",
       "      <td>29.770968</td>\n",
       "      <td>-95.435477</td>\n",
       "      <td>Trail</td>\n",
       "    </tr>\n",
       "    <tr>\n",
       "      <td>1</td>\n",
       "      <td>Houston, TX</td>\n",
       "      <td>4bf58dd8d48988d159941735</td>\n",
       "      <td>Buffalo Bayou Walk</td>\n",
       "      <td>29.762177</td>\n",
       "      <td>-95.375844</td>\n",
       "      <td>Trail</td>\n",
       "    </tr>\n",
       "    <tr>\n",
       "      <td>2</td>\n",
       "      <td>Houston, TX</td>\n",
       "      <td>4bf58dd8d48988d159941735</td>\n",
       "      <td>Buffalo Bayou Park</td>\n",
       "      <td>29.762068</td>\n",
       "      <td>-95.391626</td>\n",
       "      <td>Park</td>\n",
       "    </tr>\n",
       "    <tr>\n",
       "      <td>3</td>\n",
       "      <td>Houston, TX</td>\n",
       "      <td>4bf58dd8d48988d159941735</td>\n",
       "      <td>White Oak Bayou Trail</td>\n",
       "      <td>29.786578</td>\n",
       "      <td>-95.417864</td>\n",
       "      <td>Trail</td>\n",
       "    </tr>\n",
       "    <tr>\n",
       "      <td>4</td>\n",
       "      <td>Houston, TX</td>\n",
       "      <td>4bf58dd8d48988d159941735</td>\n",
       "      <td>Rice Running Trail</td>\n",
       "      <td>29.721954</td>\n",
       "      <td>-95.412069</td>\n",
       "      <td>Trail</td>\n",
       "    </tr>\n",
       "  </tbody>\n",
       "</table>\n",
       "</div>"
      ],
      "text/plain": [
       "             0                         1                           2  \\\n",
       "0  Houston, TX  4bf58dd8d48988d159941735  Memorial Park 3 Mile Trail   \n",
       "1  Houston, TX  4bf58dd8d48988d159941735          Buffalo Bayou Walk   \n",
       "2  Houston, TX  4bf58dd8d48988d159941735          Buffalo Bayou Park   \n",
       "3  Houston, TX  4bf58dd8d48988d159941735       White Oak Bayou Trail   \n",
       "4  Houston, TX  4bf58dd8d48988d159941735          Rice Running Trail   \n",
       "\n",
       "           3          4      5  \n",
       "0  29.770968 -95.435477  Trail  \n",
       "1  29.762177 -95.375844  Trail  \n",
       "2  29.762068 -95.391626   Park  \n",
       "3  29.786578 -95.417864  Trail  \n",
       "4  29.721954 -95.412069  Trail  "
      ]
     },
     "execution_count": 13,
     "metadata": {},
     "output_type": "execute_result"
    }
   ],
   "source": [
    "venues_df.head()"
   ]
  },
  {
   "cell_type": "markdown",
   "metadata": {},
   "source": [
    "#### Step 2. Scrub Data"
   ]
  },
  {
   "cell_type": "markdown",
   "metadata": {},
   "source": [
    "Rename columns"
   ]
  },
  {
   "cell_type": "code",
   "execution_count": 14,
   "metadata": {},
   "outputs": [],
   "source": [
    "venues_df.columns = ['City','CategoryID','Venue','Latitude','Longitude','Type']"
   ]
  },
  {
   "cell_type": "markdown",
   "metadata": {},
   "source": [
    "Create binary label columns for East-West and North-South"
   ]
  },
  {
   "cell_type": "code",
   "execution_count": 319,
   "metadata": {},
   "outputs": [],
   "source": [
    "# Label South and North cities\n",
    "\n",
    "venues_df['North'] = venues_df.Latitude.map(lambda x: 0 if x < 37 else 1)\n",
    "venues_df['West'] = venues_df.Longitude.map(lambda x: 0 if x > -104 else 1)"
   ]
  },
  {
   "cell_type": "markdown",
   "metadata": {},
   "source": [
    "Remove duplicates"
   ]
  },
  {
   "cell_type": "code",
   "execution_count": 18,
   "metadata": {},
   "outputs": [
    {
     "name": "stdout",
     "output_type": "stream",
     "text": [
      "This is the size of the dataframe after dropping duplicates\n"
     ]
    },
    {
     "data": {
      "text/plain": [
       "(44003, 7)"
      ]
     },
     "execution_count": 18,
     "metadata": {},
     "output_type": "execute_result"
    }
   ],
   "source": [
    "#Drop Duplicates!\n",
    "venues_df = venues_df.drop_duplicates()\n",
    "print('This is the size of the dataframe after dropping duplicates')\n",
    "venues_df.shape"
   ]
  },
  {
   "cell_type": "markdown",
   "metadata": {},
   "source": [
    "Lower case and split venue names text into tokens.\n",
    "Preview dataframe."
   ]
  },
  {
   "cell_type": "code",
   "execution_count": 248,
   "metadata": {},
   "outputs": [],
   "source": [
    "venues_df['Venue_tokens'] = venues_df.Venue.map(lambda x: x.lower().split(' '))"
   ]
  },
  {
   "cell_type": "code",
   "execution_count": 249,
   "metadata": {
    "scrolled": true
   },
   "outputs": [
    {
     "data": {
      "text/html": [
       "<div>\n",
       "<style scoped>\n",
       "    .dataframe tbody tr th:only-of-type {\n",
       "        vertical-align: middle;\n",
       "    }\n",
       "\n",
       "    .dataframe tbody tr th {\n",
       "        vertical-align: top;\n",
       "    }\n",
       "\n",
       "    .dataframe thead th {\n",
       "        text-align: right;\n",
       "    }\n",
       "</style>\n",
       "<table border=\"1\" class=\"dataframe\">\n",
       "  <thead>\n",
       "    <tr style=\"text-align: right;\">\n",
       "      <th></th>\n",
       "      <th>City</th>\n",
       "      <th>CategoryID</th>\n",
       "      <th>Venue</th>\n",
       "      <th>Latitude</th>\n",
       "      <th>Longitude</th>\n",
       "      <th>Type</th>\n",
       "      <th>North</th>\n",
       "      <th>Venue_tokens</th>\n",
       "      <th>West</th>\n",
       "    </tr>\n",
       "  </thead>\n",
       "  <tbody>\n",
       "    <tr>\n",
       "      <td>0</td>\n",
       "      <td>Houston, TX</td>\n",
       "      <td>4bf58dd8d48988d159941735</td>\n",
       "      <td>Memorial Park 3 Mile Trail</td>\n",
       "      <td>29.770968</td>\n",
       "      <td>-95.435477</td>\n",
       "      <td>Trail</td>\n",
       "      <td>0</td>\n",
       "      <td>[memorial, park, 3, mile, trail]</td>\n",
       "      <td>0</td>\n",
       "    </tr>\n",
       "    <tr>\n",
       "      <td>1</td>\n",
       "      <td>Houston, TX</td>\n",
       "      <td>4bf58dd8d48988d159941735</td>\n",
       "      <td>Buffalo Bayou Walk</td>\n",
       "      <td>29.762177</td>\n",
       "      <td>-95.375844</td>\n",
       "      <td>Trail</td>\n",
       "      <td>0</td>\n",
       "      <td>[buffalo, bayou, walk]</td>\n",
       "      <td>0</td>\n",
       "    </tr>\n",
       "    <tr>\n",
       "      <td>2</td>\n",
       "      <td>Houston, TX</td>\n",
       "      <td>4bf58dd8d48988d159941735</td>\n",
       "      <td>Buffalo Bayou Park</td>\n",
       "      <td>29.762068</td>\n",
       "      <td>-95.391626</td>\n",
       "      <td>Park</td>\n",
       "      <td>0</td>\n",
       "      <td>[buffalo, bayou, park]</td>\n",
       "      <td>0</td>\n",
       "    </tr>\n",
       "    <tr>\n",
       "      <td>3</td>\n",
       "      <td>Houston, TX</td>\n",
       "      <td>4bf58dd8d48988d159941735</td>\n",
       "      <td>White Oak Bayou Trail</td>\n",
       "      <td>29.786578</td>\n",
       "      <td>-95.417864</td>\n",
       "      <td>Trail</td>\n",
       "      <td>0</td>\n",
       "      <td>[white, oak, bayou, trail]</td>\n",
       "      <td>0</td>\n",
       "    </tr>\n",
       "    <tr>\n",
       "      <td>4</td>\n",
       "      <td>Houston, TX</td>\n",
       "      <td>4bf58dd8d48988d159941735</td>\n",
       "      <td>Rice Running Trail</td>\n",
       "      <td>29.721954</td>\n",
       "      <td>-95.412069</td>\n",
       "      <td>Trail</td>\n",
       "      <td>0</td>\n",
       "      <td>[rice, running, trail]</td>\n",
       "      <td>0</td>\n",
       "    </tr>\n",
       "  </tbody>\n",
       "</table>\n",
       "</div>"
      ],
      "text/plain": [
       "          City                CategoryID                       Venue  \\\n",
       "0  Houston, TX  4bf58dd8d48988d159941735  Memorial Park 3 Mile Trail   \n",
       "1  Houston, TX  4bf58dd8d48988d159941735          Buffalo Bayou Walk   \n",
       "2  Houston, TX  4bf58dd8d48988d159941735          Buffalo Bayou Park   \n",
       "3  Houston, TX  4bf58dd8d48988d159941735       White Oak Bayou Trail   \n",
       "4  Houston, TX  4bf58dd8d48988d159941735          Rice Running Trail   \n",
       "\n",
       "    Latitude  Longitude   Type  North                      Venue_tokens  West  \n",
       "0  29.770968 -95.435477  Trail      0  [memorial, park, 3, mile, trail]     0  \n",
       "1  29.762177 -95.375844  Trail      0            [buffalo, bayou, walk]     0  \n",
       "2  29.762068 -95.391626   Park      0            [buffalo, bayou, park]     0  \n",
       "3  29.786578 -95.417864  Trail      0        [white, oak, bayou, trail]     0  \n",
       "4  29.721954 -95.412069  Trail      0            [rice, running, trail]     0  "
      ]
     },
     "execution_count": 249,
     "metadata": {},
     "output_type": "execute_result"
    }
   ],
   "source": [
    "venues_df.head()"
   ]
  },
  {
   "cell_type": "markdown",
   "metadata": {},
   "source": [
    "Create binary categorical variables for each token in the venue name for each venue type"
   ]
  },
  {
   "cell_type": "code",
   "execution_count": 289,
   "metadata": {
    "scrolled": true
   },
   "outputs": [],
   "source": [
    "from sklearn.preprocessing import MultiLabelBinarizer\n",
    "\n",
    "groups = venues_df.Venue_tokens\n",
    "\n",
    "mlb = MultiLabelBinarizer()\n",
    "\n",
    "dummies = pd.DataFrame(mlb.fit_transform(groups),columns=mlb.classes_, index=venues_df.index)"
   ]
  },
  {
   "cell_type": "markdown",
   "metadata": {},
   "source": [
    "Export datasets to use later"
   ]
  },
  {
   "cell_type": "code",
   "execution_count": 298,
   "metadata": {},
   "outputs": [],
   "source": [
    "venues_df.to_csv('Venues.csv')\n",
    "dummies.to_csv('Dummies.csv')\n",
    "\n",
    "# get dummies for Venue Type\n",
    "venue_type_dummies = pd.get_dummies(venues_df.Type)\n",
    "#join1 = venues_df.join(dummies)\n",
    "join2 = join1.join(venue_type_dummies, rsuffix='_typ')\n",
    "join2.to_csv('Dataset.csv')"
   ]
  },
  {
   "cell_type": "markdown",
   "metadata": {},
   "source": [
    "#### Step 3: Explore Data"
   ]
  },
  {
   "cell_type": "markdown",
   "metadata": {},
   "source": [
    "Read data back in"
   ]
  },
  {
   "cell_type": "code",
   "execution_count": 9,
   "metadata": {},
   "outputs": [],
   "source": [
    "join2 = pd.read_csv('Dataset.csv')\n",
    "join2['West'] = join2.Longitude.map(lambda x: 0 if x > -104 else 1)"
   ]
  },
  {
   "cell_type": "code",
   "execution_count": 10,
   "metadata": {},
   "outputs": [],
   "source": [
    "df = pd.read_csv('Venues.csv')"
   ]
  },
  {
   "cell_type": "markdown",
   "metadata": {},
   "source": [
    "Prepare the data for plotting.\n",
    "Create various slices of the data for input in a horizontal bar chart."
   ]
  },
  {
   "cell_type": "code",
   "execution_count": 11,
   "metadata": {},
   "outputs": [],
   "source": [
    "# Create dataframes for each venue category\n",
    "\n",
    "outdoors_df = df.loc[df['CategoryID'].isin(outdoors_venues_ID)]\n",
    "startups_df = df.loc[df['CategoryID'].isin(professional_venues_ID)]\n",
    "cultural_df = df.loc[df['CategoryID'].isin(cultural_venues_ID)]\n",
    "food_df = df.loc[df['CategoryID'].isin(food_venues_ID)]\n",
    "beauty_df = df.loc[df['CategoryID'].isin(beauty_venues_ID)]\n"
   ]
  },
  {
   "cell_type": "code",
   "execution_count": 13,
   "metadata": {},
   "outputs": [],
   "source": [
    "venues_count = pd.DataFrame(df.groupby('City').count()['Venue'])\n",
    "venues_count = venues_count.sort_values(by=['Venue'])\n",
    "venues_count = venues_count.reset_index()\n",
    "max_number = venues_count['Venue'].max()\n",
    "max_city = venues_count.iloc[venues_count['Venue'].idxmax()][0]\n",
    "min_number = venues_count['Venue'].min()\n",
    "min_city = venues_count.iloc[venues_count['Venue'].idxmin()][0]\n",
    "cities = list(venues_count['City'])"
   ]
  },
  {
   "cell_type": "code",
   "execution_count": 14,
   "metadata": {},
   "outputs": [],
   "source": [
    "# Count the numbers of venues in each category.\n",
    "outdoors_count = pd.DataFrame(outdoors_df.groupby('City').count()['Venue'])\n",
    "outdoors_count = outdoors_count.reindex(venues_count['City'])\n",
    "startups_count = pd.DataFrame(startups_df.groupby('City').count()['Venue'])\n",
    "startups_count = startups_count.reindex(venues_count['City'])\n",
    "cultural_count = pd.DataFrame(cultural_df.groupby('City').count()['Venue'])\n",
    "cultural_count = cultural_count.reindex(venues_count['City'])\n",
    "food_count = pd.DataFrame(food_df.groupby('City').count()['Venue'])\n",
    "food_count = food_count.reindex(venues_count['City'])\n",
    "beauty_count = pd.DataFrame(beauty_df.groupby('City').count()['Venue'])\n",
    "beauty_count = beauty_count.reindex(venues_count['City'])\n"
   ]
  },
  {
   "cell_type": "code",
   "execution_count": 16,
   "metadata": {},
   "outputs": [],
   "source": [
    "# Create a function to count how many of each category are present per city\n",
    "\n",
    "def makeList(cities, count_df):\n",
    "    N = len(cities)\n",
    "    count_list = []\n",
    "    for index in range(0,N):\n",
    "        city_total = count_df.iloc[index][0]\n",
    "        count_list.append(city_total)\n",
    "    return count_list\n"
   ]
  },
  {
   "cell_type": "code",
   "execution_count": 17,
   "metadata": {
    "scrolled": true
   },
   "outputs": [],
   "source": [
    "# Apply the function to create lists of total venues per category\n",
    "outdoors_count_list = makeList(cities, outdoors_count)\n",
    "startups_count_list = makeList(cities, startups_count)\n",
    "cultural_count_list = makeList(cities, cultural_count)\n",
    "food_count_list = makeList(cities, food_count)\n",
    "beauty_count_list = makeList(cities, beauty_count)\n",
    "\n",
    "\n",
    "# YOU HAVE TO ORDER THIS DATAFRAME BY THE ORDER OF VENUE_COUNT"
   ]
  },
  {
   "cell_type": "markdown",
   "metadata": {},
   "source": [
    "Create Visualizations"
   ]
  },
  {
   "cell_type": "code",
   "execution_count": 59,
   "metadata": {},
   "outputs": [],
   "source": [
    "#!pip install chart_studio\n",
    "import chart_studio.plotly as py\n",
    "import plotly.graph_objs as go\n",
    "\n",
    "py.sign_in('','')"
   ]
  },
  {
   "cell_type": "code",
   "execution_count": 60,
   "metadata": {
    "scrolled": true
   },
   "outputs": [
    {
     "data": {
      "text/html": [
       "\n",
       "        <iframe\n",
       "            width=\"100%\"\n",
       "            height=\"525px\"\n",
       "            src=\"https://plotly.com/~tinaprisma/2.embed\"\n",
       "            frameborder=\"0\"\n",
       "            allowfullscreen\n",
       "        ></iframe>\n",
       "        "
      ],
      "text/plain": [
       "<IPython.lib.display.IFrame at 0x169ce9e80>"
      ]
     },
     "execution_count": 60,
     "metadata": {},
     "output_type": "execute_result"
    }
   ],
   "source": [
    "\n",
    "\n",
    "trace1 = go.Bar(\n",
    "    y= cities[0:20],\n",
    "    x= outdoors_count_list[0:20],\n",
    "    name='Outdoors',\n",
    "    orientation = 'h',\n",
    "    marker = dict(\n",
    "        color = 'rgba(73,124,81,0.8)',\n",
    "    )\n",
    ")\n",
    "trace2 = go.Bar(\n",
    "    y= cities[0:20],\n",
    "    x= startups_count_list[0:20],\n",
    "    name='Startups',\n",
    "    orientation = 'h',\n",
    "    marker = dict(\n",
    "        color = 'rgba(81,73,124,0.8)'\n",
    "   )\n",
    ")\n",
    "trace3 = go.Bar(\n",
    "    y= cities[0:20],\n",
    "    x= cultural_count_list[0:20],\n",
    "    name='Cultural',\n",
    "    orientation = 'h',\n",
    "    marker = dict(\n",
    "        color = 'rgba(124,73,116,0.8)',\n",
    "   )\n",
    ")\n",
    "trace4 = go.Bar(\n",
    "    y= cities[0:20],\n",
    "    x= food_count_list[0:20],\n",
    "    name='Food',\n",
    "    orientation = 'h',\n",
    "    marker = dict(\n",
    "        color = 'rgba(139,115,95,0.8)',\n",
    "    )\n",
    ")\n",
    "trace5 = go.Bar(\n",
    "    y= cities[0:20],\n",
    "    x= beauty_count_list[0:20],\n",
    "    name='Beauty',\n",
    "    orientation = 'h',\n",
    "    marker = dict(\n",
    "        color = 'rgba(95,119,139,0.8)',\n",
    "    )\n",
    ")       \n",
    "data = [trace1, trace2, trace3, trace4, trace5]\n",
    "layout = go.Layout(\n",
    "    barmode='stack', title = 'Foursquare Venue Categories in U.S. Cities',xaxis=dict(range=[0, 1800]))\n",
    "\n",
    "fig = go.Figure(data=data, layout=layout)\n",
    "py.iplot(fig, filename='marker-h-bar')"
   ]
  },
  {
   "cell_type": "code",
   "execution_count": 61,
   "metadata": {
    "scrolled": true
   },
   "outputs": [
    {
     "data": {
      "text/html": [
       "\n",
       "        <iframe\n",
       "            width=\"100%\"\n",
       "            height=\"525px\"\n",
       "            src=\"https://plotly.com/~tinaprisma/99.embed\"\n",
       "            frameborder=\"0\"\n",
       "            allowfullscreen\n",
       "        ></iframe>\n",
       "        "
      ],
      "text/plain": [
       "<IPython.lib.display.IFrame at 0x16dbd8630>"
      ]
     },
     "execution_count": 61,
     "metadata": {},
     "output_type": "execute_result"
    }
   ],
   "source": [
    "\n",
    "tracea = go.Bar(\n",
    "    y= cities[20:42],\n",
    "    x= outdoors_count_list[20:42],\n",
    "    name='Outdoors',\n",
    "    orientation = 'h',\n",
    "    marker = dict(\n",
    "        color = 'rgba(73,124,81,0.8)',\n",
    "    )\n",
    ")\n",
    "traceb = go.Bar(\n",
    "    y= cities[20:42],\n",
    "    x= startups_count_list[20:42],\n",
    "    name='Startups',\n",
    "    orientation = 'h',\n",
    "    marker = dict(\n",
    "        color = 'rgba(81,73,124,0.8)'\n",
    "   )\n",
    ")\n",
    "tracec = go.Bar(\n",
    "    y= cities[20:42],\n",
    "    x= cultural_count_list[20:42],\n",
    "    name='Cultural',\n",
    "    orientation = 'h',\n",
    "    marker = dict(\n",
    "        color = 'rgba(124,73,116,0.8)',\n",
    "   )\n",
    ")\n",
    "traced = go.Bar(\n",
    "    y= cities[20:42],\n",
    "    x= food_count_list[20:42],\n",
    "    name='Food',\n",
    "    orientation = 'h',\n",
    "    marker = dict(\n",
    "        color = 'rgba(139,115,95,0.8)',\n",
    "    )\n",
    ")\n",
    "tracee = go.Bar(\n",
    "    y= cities[20:42],\n",
    "    x= beauty_count_list[20:42],\n",
    "    name='Beauty',\n",
    "    orientation = 'h',\n",
    "    marker = dict(\n",
    "        color = 'rgba(95,119,139,0.8)',\n",
    "    )\n",
    ")\n",
    "\n",
    "data2 = [tracea, traceb, tracec, traced, tracee]\n",
    "layout2 = go.Layout(\n",
    "    barmode='stack', title = 'Foursquare Venue Categories in U.S. Cities continued',xaxis=dict(range=[0, 1800])\n",
    ")\n",
    "\n",
    "fig2 = go.Figure(data=data2, layout=layout2)\n",
    "py.iplot(fig2, filename='marker-h2-bar')"
   ]
  },
  {
   "cell_type": "markdown",
   "metadata": {},
   "source": [
    "Explore most frequent venue types (top 20)"
   ]
  },
  {
   "cell_type": "code",
   "execution_count": 62,
   "metadata": {},
   "outputs": [
    {
     "data": {
      "text/plain": [
       "Park                       5243\n",
       "Trail                      3640\n",
       "Flower Shop                3413\n",
       "Tech Startup               3411\n",
       "Juice Bar                  3168\n",
       "Health Food Store          3141\n",
       "Farmers Market             2694\n",
       "Grocery Store              2220\n",
       "Winery                     2041\n",
       "Convention Center          1746\n",
       "Nature Preserve            1440\n",
       "Fruit & Vegetable Store    1375\n",
       "Mountain                    905\n",
       "Bike Trail                  817\n",
       "Organic Grocery             787\n",
       "Synagogue                   740\n",
       "Forest                      547\n",
       "Buddhist Temple             540\n",
       "Botanical Garden            532\n",
       "National Park               481\n",
       "Name: Type, dtype: int64"
      ]
     },
     "execution_count": 62,
     "metadata": {},
     "output_type": "execute_result"
    }
   ],
   "source": [
    "\n",
    "df.Type.value_counts(ascending=False).head(20)"
   ]
  },
  {
   "cell_type": "code",
   "execution_count": 63,
   "metadata": {},
   "outputs": [],
   "source": [
    "top_types = df.Type.value_counts(ascending=False).head(5).index\n",
    "top_counts = df.Type.value_counts(ascending=False).head(5).values"
   ]
  },
  {
   "cell_type": "code",
   "execution_count": 64,
   "metadata": {},
   "outputs": [
    {
     "data": {
      "text/plain": [
       "Text(0, 0.5, 'Count')"
      ]
     },
     "execution_count": 64,
     "metadata": {},
     "output_type": "execute_result"
    },
    {
     "data": {
      "image/png": "[encoded data removed]",
      "text/plain": [
       "<Figure size 432x288 with 1 Axes>"
      ]
     },
     "metadata": {
      "needs_background": "light"
     },
     "output_type": "display_data"
    }
   ],
   "source": [
    "import seaborn as sns\n",
    "sns.barplot(top_types,top_counts)\n",
    "plt.title('Top Venue Types')\n",
    "plt.ylabel('Count')"
   ]
  },
  {
   "cell_type": "code",
   "execution_count": 65,
   "metadata": {
    "scrolled": true
   },
   "outputs": [
    {
     "data": {
      "text/plain": [
       "Text(0, 0.5, 'Count')"
      ]
     },
     "execution_count": 65,
     "metadata": {},
     "output_type": "execute_result"
    },
    {
     "data": {
      "image/png": "[encoded data removed]",
      "text/plain": [
       "<Figure size 432x288 with 1 Axes>"
      ]
     },
     "metadata": {
      "needs_background": "light"
     },
     "output_type": "display_data"
    }
   ],
   "source": [
    "top_types = df.Type.value_counts(ascending=False).tail(5).index\n",
    "top_counts = df.Type.value_counts(ascending=False).tail(5).values\n",
    "sns.barplot(top_types,top_counts)\n",
    "plt.title('Rarer Venue Types')\n",
    "plt.ylabel('Count')\n"
   ]
  },
  {
   "cell_type": "markdown",
   "metadata": {},
   "source": [
    "QC category names - first few "
   ]
  },
  {
   "cell_type": "code",
   "execution_count": 82,
   "metadata": {},
   "outputs": [
    {
     "data": {
      "text/plain": [
       "Index(['41st', '420', '4200', '42592', '42°', '43', '43rd', '44', '44)',\n",
       "       '441,', '444', '445', '44th', '45', '450', '4505', '458', '46', '47',\n",
       "       '4726', '495', '49th', '4abetteru', '4d', '4ever', '4g',\n",
       "       '4getmenotsflorist.com', '4greenvision', '4k', '4s', '4th', '5', '5-h',\n",
       "       '5-mile', '5.0', '5.1', '50', '500', '5000', '505', '509', '51', '515',\n",
       "       '516', '52', '520', '525', '5280', '53', '53rd'],\n",
       "      dtype='object')"
      ]
     },
     "execution_count": 82,
     "metadata": {},
     "output_type": "execute_result"
    }
   ],
   "source": [
    "join2.columns[500:550]"
   ]
  },
  {
   "cell_type": "markdown",
   "metadata": {},
   "source": [
    "Need to clean up and drop first few categories"
   ]
  },
  {
   "cell_type": "code",
   "execution_count": 90,
   "metadata": {},
   "outputs": [],
   "source": [
    "join2.drop(join2.columns[10:651],axis=1,inplace=True)"
   ]
  },
  {
   "cell_type": "code",
   "execution_count": 91,
   "metadata": {},
   "outputs": [
    {
     "data": {
      "text/plain": [
       "Index(['Unnamed: 0', 'City', 'CategoryID', 'Venue', 'Latitude', 'Longitude',\n",
       "       'Type', 'North', 'Venue_tokens', 'West',\n",
       "       ...\n",
       "       'Waterfront', 'Wedding Hall', 'Wine Bar', 'Wine Shop', 'Winery',\n",
       "       'Wings Joint', 'Women's Store', 'Yoga Studio', 'Zoo', 'Zoo Exhibit'],\n",
       "      dtype='object', length=17954)"
      ]
     },
     "execution_count": 91,
     "metadata": {},
     "output_type": "execute_result"
    }
   ],
   "source": [
    "join2.columns"
   ]
  },
  {
   "cell_type": "markdown",
   "metadata": {},
   "source": [
    "#### Step 4 - Modeling Data"
   ]
  },
  {
   "cell_type": "code",
   "execution_count": 122,
   "metadata": {},
   "outputs": [],
   "source": [
    "join2 = pd.read_csv('Dataset.csv')\n",
    "join2['West'] = join2.Longitude.map(lambda x: 0 if x > -104 else 1)"
   ]
  },
  {
   "cell_type": "code",
   "execution_count": 123,
   "metadata": {},
   "outputs": [],
   "source": [
    "join2.drop(['Unnamed: 0','City','CategoryID','Venue','Latitude','Longitude','Type','Venue_tokens'], axis=1,inplace=True)"
   ]
  },
  {
   "cell_type": "markdown",
   "metadata": {},
   "source": [
    "Format data for modeling step"
   ]
  },
  {
   "cell_type": "code",
   "execution_count": 124,
   "metadata": {},
   "outputs": [],
   "source": [
    "# Define X and y for this dataset\n",
    "\n",
    "def Classifier(X, y, class1,class0):\n",
    "\n",
    "    X = np.asarray(X)\n",
    "\n",
    "\n",
    "    #from sklearn import preprocessing\n",
    "    #X = preprocessing.StandardScaler().fit(X).transform(X)\n",
    "\n",
    "\n",
    "    y = np.asarray(y)\n",
    "\n",
    "    from sklearn.model_selection import train_test_split\n",
    "    X_train, X_test, y_train, y_test = train_test_split(X, y, test_size=0.2, random_state = 4)\n",
    "    print ('Train set:', X_train.shape, y_train.shape)\n",
    "    print ('Test set:', X_test.shape, y_test.shape)\n",
    "\n",
    "    from sklearn.linear_model import LogisticRegression\n",
    "    from sklearn.metrics import confusion_matrix\n",
    "    LR = LogisticRegression(C=0.01, solver='liblinear').fit(X_train,y_train)\n",
    "\n",
    "\n",
    "    yhat = LR.predict(X_test)\n",
    "\n",
    "\n",
    "    yhat_prob = LR.predict_proba(X_test)\n",
    "\n",
    "\n",
    "    # Compute Jaccard Index\n",
    "\n",
    "    from sklearn.metrics import jaccard_similarity_score\n",
    "    print('jaccard score: ',jaccard_similarity_score(y_test, yhat))\n",
    "\n",
    "    # Confusion Matrix\n",
    "\n",
    "    from sklearn.metrics import classification_report, confusion_matrix\n",
    "    import itertools\n",
    "    def plot_confusion_matrix(cm, classes,\n",
    "                              normalize=False,\n",
    "                              title='Confusion matrix',\n",
    "                              cmap=plt.cm.Blues):\n",
    "        \"\"\"\n",
    "        This function prints and plots the confusion matrix.\n",
    "        Normalization can be applied by setting `normalize=True`.\n",
    "        \"\"\"\n",
    "        if normalize:\n",
    "            cm = cm.astype('float') / cm.sum(axis=1)[:, np.newaxis]\n",
    "            print(\"Normalized confusion matrix\")\n",
    "        else:\n",
    "            print('Confusion matrix, without normalization')\n",
    "\n",
    "        print(cm)\n",
    "\n",
    "        plt.imshow(cm, interpolation='nearest', cmap=cmap)\n",
    "        plt.title(title)\n",
    "        plt.colorbar()\n",
    "        tick_marks = np.arange(len(classes))\n",
    "        plt.xticks(tick_marks, classes, rotation=45)\n",
    "        plt.yticks(tick_marks, classes)\n",
    "\n",
    "        fmt = '.2f' if normalize else 'd'\n",
    "        thresh = cm.max() / 2.\n",
    "        for i, j in itertools.product(range(cm.shape[0]), range(cm.shape[1])):\n",
    "            plt.text(j, i, format(cm[i, j], fmt),\n",
    "                     horizontalalignment=\"center\",\n",
    "                     color=\"white\" if cm[i, j] > thresh else \"black\")\n",
    "\n",
    "        plt.tight_layout()\n",
    "        plt.ylabel('True label')\n",
    "        plt.xlabel('Predicted label')\n",
    "    print(confusion_matrix(y_test, yhat, labels=[1,0]))\n",
    "\n",
    "    # Compute confusion matrix\n",
    "    cnf_matrix = confusion_matrix(y_test, yhat, labels=[1,0])\n",
    "    np.set_printoptions(precision=2)\n",
    "\n",
    "\n",
    "    # Plot non-normalized confusion matrix\n",
    "    plt.figure()\n",
    "    plot_confusion_matrix(cnf_matrix, classes=[class1,class0],normalize= False,  title='Confusion matrix')\n",
    "    print(classification_report(y_test, yhat))\n",
    "\n",
    "    from sklearn.metrics import log_loss\n",
    "    log_loss(y_test, yhat_prob)\n",
    "    \n",
    "    return "
   ]
  },
  {
   "cell_type": "code",
   "execution_count": 125,
   "metadata": {},
   "outputs": [
    {
     "name": "stdout",
     "output_type": "stream",
     "text": [
      "Train set: (35202, 18585) (35202,)\n",
      "Test set: (8801, 18585) (8801,)\n",
      "jaccard score:  0.615043745028974\n",
      "[[3040 1534]\n",
      " [1854 2373]]\n",
      "Confusion matrix, without normalization\n",
      "[[3040 1534]\n",
      " [1854 2373]]\n",
      "              precision    recall  f1-score   support\n",
      "\n",
      "           0       0.61      0.56      0.58      4227\n",
      "           1       0.62      0.66      0.64      4574\n",
      "\n",
      "   micro avg       0.62      0.62      0.62      8801\n",
      "   macro avg       0.61      0.61      0.61      8801\n",
      "weighted avg       0.61      0.62      0.61      8801\n",
      "\n"
     ]
    },
    {
     "data": {
      "image/png": "[encoded data removed]",
      "text/plain": [
       "<Figure size 432x288 with 2 Axes>"
      ]
     },
     "metadata": {
      "needs_background": "light"
     },
     "output_type": "display_data"
    }
   ],
   "source": [
    "X = join2.drop(['North','West'],axis=1)\n",
    "y_N_S = join2['North']\n",
    "Classifier(X, y_N_S, 'North=1','South=0')"
   ]
  },
  {
   "cell_type": "code",
   "execution_count": 126,
   "metadata": {},
   "outputs": [
    {
     "name": "stdout",
     "output_type": "stream",
     "text": [
      "Train set: (35202, 18585) (35202,)\n",
      "Test set: (8801, 18585) (8801,)\n",
      "jaccard score:  0.63106465174412\n",
      "[[3385 1297]\n",
      " [1950 2169]]\n",
      "Confusion matrix, without normalization\n",
      "[[3385 1297]\n",
      " [1950 2169]]\n",
      "              precision    recall  f1-score   support\n",
      "\n",
      "           0       0.63      0.53      0.57      4119\n",
      "           1       0.63      0.72      0.68      4682\n",
      "\n",
      "   micro avg       0.63      0.63      0.63      8801\n",
      "   macro avg       0.63      0.62      0.62      8801\n",
      "weighted avg       0.63      0.63      0.63      8801\n",
      "\n"
     ]
    },
    {
     "data": {
      "image/png": "[encoded data removed]",
      "text/plain": [
       "<Figure size 432x288 with 2 Axes>"
      ]
     },
     "metadata": {
      "needs_background": "light"
     },
     "output_type": "display_data"
    }
   ],
   "source": [
    "X = join2.drop(['North','West'],axis=1)\n",
    "y_E_W = join2['West']\n",
    "Classifier(X, y_E_W,'West=1','East=0')"
   ]
  },
  {
   "cell_type": "code",
   "execution_count": 127,
   "metadata": {},
   "outputs": [
    {
     "name": "stdout",
     "output_type": "stream",
     "text": [
      "Train set: (35202, 292) (35202,)\n",
      "Test set: (8801, 292) (8801,)\n",
      "jaccard score:  0.55096011816839\n",
      "[[2964 1610]\n",
      " [2342 1885]]\n",
      "Confusion matrix, without normalization\n",
      "[[2964 1610]\n",
      " [2342 1885]]\n",
      "              precision    recall  f1-score   support\n",
      "\n",
      "           0       0.54      0.45      0.49      4227\n",
      "           1       0.56      0.65      0.60      4574\n",
      "\n",
      "   micro avg       0.55      0.55      0.55      8801\n",
      "   macro avg       0.55      0.55      0.54      8801\n",
      "weighted avg       0.55      0.55      0.55      8801\n",
      "\n"
     ]
    },
    {
     "data": {
      "image/png": "[encoded data removed]",
      "text/plain": [
       "<Figure size 432x288 with 2 Axes>"
      ]
     },
     "metadata": {
      "needs_background": "light"
     },
     "output_type": "display_data"
    }
   ],
   "source": [
    "# 3rd model using only venue types\n",
    "\n",
    "X2 = join2[join2.columns[-len(df.Type.unique()):]]\n",
    "y_N_S = join2['North']\n",
    "\n",
    "Classifier(X2, y_N_S,'North=1','South=0')"
   ]
  },
  {
   "cell_type": "code",
   "execution_count": 128,
   "metadata": {},
   "outputs": [
    {
     "name": "stdout",
     "output_type": "stream",
     "text": [
      "Train set: (35202, 292) (35202,)\n",
      "Test set: (8801, 292) (8801,)\n",
      "jaccard score:  0.5497102601977049\n",
      "[[3524 1158]\n",
      " [2805 1314]]\n",
      "Confusion matrix, without normalization\n",
      "[[3524 1158]\n",
      " [2805 1314]]\n",
      "              precision    recall  f1-score   support\n",
      "\n",
      "           0       0.53      0.32      0.40      4119\n",
      "           1       0.56      0.75      0.64      4682\n",
      "\n",
      "   micro avg       0.55      0.55      0.55      8801\n",
      "   macro avg       0.54      0.54      0.52      8801\n",
      "weighted avg       0.54      0.55      0.53      8801\n",
      "\n"
     ]
    },
    {
     "data": {
      "image/png": "[encoded data removed]",
      "text/plain": [
       "<Figure size 432x288 with 2 Axes>"
      ]
     },
     "metadata": {
      "needs_background": "light"
     },
     "output_type": "display_data"
    }
   ],
   "source": [
    "Classifier(X2, y_E_W,'West=1','East=0')"
   ]
  },
  {
   "cell_type": "markdown",
   "metadata": {},
   "source": [
    "#### Step 5 - Interpretation of Results"
   ]
  },
  {
   "cell_type": "markdown",
   "metadata": {},
   "source": [
    "There is no significant difference between Model 1 and Model 2. There is higher accuracy at predicting the North and West locations. Models 3 and 4 contain fewer features show less predictive power than Model 1 and 2, but again no significance between 3 and 4. However, the models have predictive power higher than pure chance."
   ]
  },
  {
   "cell_type": "markdown",
   "metadata": {},
   "source": [
    "#### Conclusion and Next Steps"
   ]
  },
  {
   "cell_type": "markdown",
   "metadata": {},
   "source": [
    "This experiment could be improved if more samples are added to the dataset. Further steps could entail of deeper textual analysis, using bigrams and other natural language processing techniques. The premise of the problem, however, it's not very strong to begin with, so the expectations of predictive power of such model should not be high."
   ]
  }
 ],
 "metadata": {
  "kernelspec": {
   "display_name": "Python 3",
   "language": "python",
   "name": "python3"
  },
  "language_info": {
   "codemirror_mode": {
    "name": "ipython",
    "version": 3
   },
   "file_extension": ".py",
   "mimetype": "text/x-python",
   "name": "python",
   "nbconvert_exporter": "python",
   "pygments_lexer": "ipython3",
   "version": "3.6.6"
  }
 },
 "nbformat": 4,
 "nbformat_minor": 1
}
